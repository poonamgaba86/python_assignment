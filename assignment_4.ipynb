{
 "cells": [
  {
   "cell_type": "code",
   "execution_count": 34,
   "metadata": {},
   "outputs": [
    {
     "name": "stdout",
     "output_type": "stream",
     "text": [
      "a = 4\n",
      "b = 5\n",
      "c = 6\n",
      "area of traingle  is  9.921567416492215\n"
     ]
    }
   ],
   "source": [
    "class T_parent():\n",
    "    def __init__(self,a,b,c):\n",
    "        self.a=a\n",
    "        self.b=b\n",
    "        self.c=c\n",
    "    \n",
    "     \n",
    "    \n",
    "class T_child(T_parent):\n",
    "    def __init__(self,*args):\n",
    "        super(T_child, self).__init__(*args)\n",
    "        \n",
    "    def cal_area(self):\n",
    "        s=(self.a+self.b+self.c)/2\n",
    "        self.area=(s*(s-self.a)*(s-self.b)*(s-self.c)) ** 0.5\n",
    "        print(\"area of traingle  is \",self.area)\n",
    "        \n",
    "a, b, c = int(input(\"a = \")),int(input(\"b = \")),int(input(\"c = \"))\n",
    "        \n",
    "t1=T_child(a,b,c)\n",
    "\n",
    "t1.cal_area()"
   ]
  },
  {
   "cell_type": "code",
   "execution_count": 33,
   "metadata": {},
   "outputs": [
    {
     "name": "stdout",
     "output_type": "stream",
     "text": [
      "enter the number 4\n",
      "['ineuron', 'great learning', 'udemy']\n"
     ]
    }
   ],
   "source": [
    "def filter_long_word(wordlist,n):\n",
    "    li=[i for i in wordlist if len(i)>n]\n",
    "    return li\n",
    "    \n",
    "    \n",
    "\n",
    "    \n",
    "li=['ineuron','great learning','udemy','niit']\n",
    "n=int(input(\"enter the number \"))\n",
    "print(filter_long_word(li,n))"
   ]
  },
  {
   "cell_type": "code",
   "execution_count": 31,
   "metadata": {},
   "outputs": [
    {
     "name": "stdout",
     "output_type": "stream",
     "text": [
      "[3, 3, 4, 4, 6]\n"
     ]
    }
   ],
   "source": [
    "def map_int(li):\n",
    "    res=list(map(lambda x: len(x),li))\n",
    "    return res\n",
    "    \n",
    "\n",
    "li=['abc','gfd','hgfg','gree','kjhjhj']\n",
    "print(map_int(li))\n",
    "        "
   ]
  },
  {
   "cell_type": "code",
   "execution_count": 30,
   "metadata": {},
   "outputs": [
    {
     "name": "stdout",
     "output_type": "stream",
     "text": [
      "enter the character  a\n",
      "True \n"
     ]
    }
   ],
   "source": [
    "def check_vowel(ch):\n",
    "    if len(ch)==1:\n",
    "        if ch=='a' or ch=='e' or ch=='i' or ch=='o' or ch=='u':\n",
    "            print(\"True \")\n",
    "        else :\n",
    "            print(\"False\")\n",
    "    else:\n",
    "        print(\"kindly enter one character\")\n",
    "     \n",
    " \n",
    "\n",
    "ch=input(\"enter the character  \")\n",
    "check_vowel(ch)"
   ]
  },
  {
   "cell_type": "code",
   "execution_count": null,
   "metadata": {},
   "outputs": [],
   "source": []
  }
 ],
 "metadata": {
  "kernelspec": {
   "display_name": "Python 3",
   "language": "python",
   "name": "python3"
  },
  "language_info": {
   "codemirror_mode": {
    "name": "ipython",
    "version": 3
   },
   "file_extension": ".py",
   "mimetype": "text/x-python",
   "name": "python",
   "nbconvert_exporter": "python",
   "pygments_lexer": "ipython3",
   "version": "3.8.3"
  }
 },
 "nbformat": 4,
 "nbformat_minor": 4
}
